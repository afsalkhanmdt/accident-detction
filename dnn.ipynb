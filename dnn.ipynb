{
 "cells": [
  {
   "cell_type": "code",
   "execution_count": 14,
   "metadata": {},
   "outputs": [],
   "source": [
    "import pandas as pd\n",
    "from sklearn import preprocessing\n",
    "from sklearn.model_selection import train_test_split\n",
    "from keras.models import Sequential\n",
    "from keras.layers import Dense\n",
    "import matplotlib.pyplot as plt"
   ]
  },
  {
   "cell_type": "code",
   "execution_count": 2,
   "metadata": {},
   "outputs": [
    {
     "data": {
      "text/html": [
       "<div>\n",
       "<style scoped>\n",
       "    .dataframe tbody tr th:only-of-type {\n",
       "        vertical-align: middle;\n",
       "    }\n",
       "\n",
       "    .dataframe tbody tr th {\n",
       "        vertical-align: top;\n",
       "    }\n",
       "\n",
       "    .dataframe thead th {\n",
       "        text-align: right;\n",
       "    }\n",
       "</style>\n",
       "<table border=\"1\" class=\"dataframe\">\n",
       "  <thead>\n",
       "    <tr style=\"text-align: right;\">\n",
       "      <th></th>\n",
       "      <th>Junction</th>\n",
       "      <th>Speed Limit</th>\n",
       "      <th>Road Width</th>\n",
       "      <th>Types of Signs</th>\n",
       "      <th>Pavement Edge Lines</th>\n",
       "      <th>Road Pattern</th>\n",
       "      <th>Cross Roads</th>\n",
       "      <th>Risk</th>\n",
       "    </tr>\n",
       "  </thead>\n",
       "  <tbody>\n",
       "    <tr>\n",
       "      <th>0</th>\n",
       "      <td>1</td>\n",
       "      <td>1</td>\n",
       "      <td>2</td>\n",
       "      <td>0</td>\n",
       "      <td>0</td>\n",
       "      <td>0</td>\n",
       "      <td>0</td>\n",
       "      <td>2</td>\n",
       "    </tr>\n",
       "    <tr>\n",
       "      <th>1</th>\n",
       "      <td>2</td>\n",
       "      <td>0</td>\n",
       "      <td>2</td>\n",
       "      <td>2</td>\n",
       "      <td>0</td>\n",
       "      <td>5</td>\n",
       "      <td>2</td>\n",
       "      <td>2</td>\n",
       "    </tr>\n",
       "    <tr>\n",
       "      <th>2</th>\n",
       "      <td>3</td>\n",
       "      <td>0</td>\n",
       "      <td>1</td>\n",
       "      <td>0</td>\n",
       "      <td>0</td>\n",
       "      <td>1</td>\n",
       "      <td>0</td>\n",
       "      <td>1</td>\n",
       "    </tr>\n",
       "    <tr>\n",
       "      <th>3</th>\n",
       "      <td>4</td>\n",
       "      <td>1</td>\n",
       "      <td>2</td>\n",
       "      <td>1</td>\n",
       "      <td>1</td>\n",
       "      <td>4</td>\n",
       "      <td>1</td>\n",
       "      <td>0</td>\n",
       "    </tr>\n",
       "    <tr>\n",
       "      <th>4</th>\n",
       "      <td>5</td>\n",
       "      <td>1</td>\n",
       "      <td>1</td>\n",
       "      <td>3</td>\n",
       "      <td>0</td>\n",
       "      <td>3</td>\n",
       "      <td>1</td>\n",
       "      <td>0</td>\n",
       "    </tr>\n",
       "  </tbody>\n",
       "</table>\n",
       "</div>"
      ],
      "text/plain": [
       "   Junction  Speed Limit  Road Width  Types of Signs  Pavement Edge Lines  \\\n",
       "0         1            1           2               0                    0   \n",
       "1         2            0           2               2                    0   \n",
       "2         3            0           1               0                    0   \n",
       "3         4            1           2               1                    1   \n",
       "4         5            1           1               3                    0   \n",
       "\n",
       "   Road Pattern  Cross Roads  Risk  \n",
       "0             0            0     2  \n",
       "1             5            2     2  \n",
       "2             1            0     1  \n",
       "3             4            1     0  \n",
       "4             3            1     0  "
      ]
     },
     "execution_count": 2,
     "metadata": {},
     "output_type": "execute_result"
    }
   ],
   "source": [
    "data = pd.read_csv('dataset.csv')\n",
    "data.head()"
   ]
  },
  {
   "cell_type": "code",
   "execution_count": 3,
   "metadata": {},
   "outputs": [],
   "source": [
    "dataset = data.values\n",
    "X = dataset[:,0:7]\n",
    "Y = dataset[:,7:8]"
   ]
  },
  {
   "cell_type": "code",
   "execution_count": 4,
   "metadata": {},
   "outputs": [
    {
     "name": "stdout",
     "output_type": "stream",
     "text": [
      "(140, 7) (30, 7) (30, 7) (140, 1) (30, 1) (30, 1)\n"
     ]
    }
   ],
   "source": [
    "min_max_scaler = preprocessing.MinMaxScaler()\n",
    "X_scale = min_max_scaler.fit_transform(X)\n",
    "X_train, X_val_and_test, Y_train, Y_val_and_test = train_test_split(X_scale, Y, test_size=0.3)\n",
    "X_val, X_test, Y_val, Y_test = train_test_split(X_val_and_test, Y_val_and_test, test_size=0.5)\n",
    "print(X_train.shape, X_val.shape, X_test.shape, Y_train.shape, Y_val.shape, Y_test.shape)"
   ]
  },
  {
   "cell_type": "code",
   "execution_count": 9,
   "metadata": {},
   "outputs": [],
   "source": [
    "model = Sequential([\n",
    "    Dense(32, activation='relu', input_shape=(7,)),\n",
    "    Dense(32, activation='relu'),\n",
    "    Dense(1, activation='sigmoid'),\n",
    "])"
   ]
  },
  {
   "cell_type": "code",
   "execution_count": 10,
   "metadata": {},
   "outputs": [],
   "source": [
    "model.compile(optimizer='sgd',\n",
    "              loss='binary_crossentropy',\n",
    "              metrics=['accuracy'])"
   ]
  },
  {
   "cell_type": "code",
   "execution_count": 18,
   "metadata": {},
   "outputs": [
    {
     "name": "stdout",
     "output_type": "stream",
     "text": [
      "Epoch 1/100\n",
      "5/5 [==============================] - 0s 21ms/step - loss: 0.1008 - accuracy: 0.3071 - val_loss: 0.0383 - val_accuracy: 0.4667\n",
      "Epoch 2/100\n",
      "5/5 [==============================] - 0s 13ms/step - loss: 0.1002 - accuracy: 0.3071 - val_loss: 0.0418 - val_accuracy: 0.4667\n",
      "Epoch 3/100\n",
      "5/5 [==============================] - 0s 14ms/step - loss: 0.0960 - accuracy: 0.3071 - val_loss: 0.0403 - val_accuracy: 0.4667\n",
      "Epoch 4/100\n",
      "5/5 [==============================] - 0s 11ms/step - loss: 0.0942 - accuracy: 0.3071 - val_loss: 0.0370 - val_accuracy: 0.4667\n",
      "Epoch 5/100\n",
      "5/5 [==============================] - 0s 13ms/step - loss: 0.0950 - accuracy: 0.3071 - val_loss: 0.0363 - val_accuracy: 0.4667\n",
      "Epoch 6/100\n",
      "5/5 [==============================] - 0s 13ms/step - loss: 0.0905 - accuracy: 0.3071 - val_loss: 0.0379 - val_accuracy: 0.4667\n",
      "Epoch 7/100\n",
      "5/5 [==============================] - 0s 16ms/step - loss: 0.0906 - accuracy: 0.3071 - val_loss: 0.0366 - val_accuracy: 0.4667\n",
      "Epoch 8/100\n",
      "5/5 [==============================] - 0s 12ms/step - loss: 0.0883 - accuracy: 0.3071 - val_loss: 0.0347 - val_accuracy: 0.4667\n",
      "Epoch 9/100\n",
      "5/5 [==============================] - 0s 11ms/step - loss: 0.0893 - accuracy: 0.3071 - val_loss: 0.0348 - val_accuracy: 0.4667\n",
      "Epoch 10/100\n",
      "5/5 [==============================] - 0s 11ms/step - loss: 0.0859 - accuracy: 0.3071 - val_loss: 0.0344 - val_accuracy: 0.4667\n",
      "Epoch 11/100\n",
      "5/5 [==============================] - 0s 11ms/step - loss: 0.0855 - accuracy: 0.3071 - val_loss: 0.0287 - val_accuracy: 0.4667\n",
      "Epoch 12/100\n",
      "5/5 [==============================] - 0s 12ms/step - loss: 0.0901 - accuracy: 0.3071 - val_loss: 0.0302 - val_accuracy: 0.4667\n",
      "Epoch 13/100\n",
      "5/5 [==============================] - 0s 11ms/step - loss: 0.0798 - accuracy: 0.3071 - val_loss: 0.0268 - val_accuracy: 0.4667\n",
      "Epoch 14/100\n",
      "5/5 [==============================] - 0s 12ms/step - loss: 0.0804 - accuracy: 0.3071 - val_loss: 0.0229 - val_accuracy: 0.4667\n",
      "Epoch 15/100\n",
      "5/5 [==============================] - 0s 13ms/step - loss: 0.0806 - accuracy: 0.3071 - val_loss: 0.0227 - val_accuracy: 0.4667\n",
      "Epoch 16/100\n",
      "5/5 [==============================] - 0s 13ms/step - loss: 0.0782 - accuracy: 0.3071 - val_loss: 0.0236 - val_accuracy: 0.4667\n",
      "Epoch 17/100\n",
      "5/5 [==============================] - 0s 12ms/step - loss: 0.0748 - accuracy: 0.3071 - val_loss: 0.0242 - val_accuracy: 0.4667\n",
      "Epoch 18/100\n",
      "5/5 [==============================] - 0s 12ms/step - loss: 0.0721 - accuracy: 0.3071 - val_loss: 0.0249 - val_accuracy: 0.4667\n",
      "Epoch 19/100\n",
      "5/5 [==============================] - 0s 12ms/step - loss: 0.0732 - accuracy: 0.3071 - val_loss: 0.0274 - val_accuracy: 0.4667\n",
      "Epoch 20/100\n",
      "5/5 [==============================] - 0s 12ms/step - loss: 0.0690 - accuracy: 0.3071 - val_loss: 0.0286 - val_accuracy: 0.4667\n",
      "Epoch 21/100\n",
      "5/5 [==============================] - 0s 12ms/step - loss: 0.0680 - accuracy: 0.3071 - val_loss: 0.0268 - val_accuracy: 0.4667\n",
      "Epoch 22/100\n",
      "5/5 [==============================] - 0s 12ms/step - loss: 0.0664 - accuracy: 0.3071 - val_loss: 0.0301 - val_accuracy: 0.4667\n",
      "Epoch 23/100\n",
      "5/5 [==============================] - 0s 12ms/step - loss: 0.0667 - accuracy: 0.3071 - val_loss: 0.0309 - val_accuracy: 0.4667\n",
      "Epoch 24/100\n",
      "5/5 [==============================] - 0s 12ms/step - loss: 0.0669 - accuracy: 0.3071 - val_loss: 0.0305 - val_accuracy: 0.4667\n",
      "Epoch 25/100\n",
      "5/5 [==============================] - 0s 14ms/step - loss: 0.0614 - accuracy: 0.3071 - val_loss: 0.0307 - val_accuracy: 0.4667\n",
      "Epoch 26/100\n",
      "5/5 [==============================] - 0s 13ms/step - loss: 0.0636 - accuracy: 0.3071 - val_loss: 0.0247 - val_accuracy: 0.4667\n",
      "Epoch 27/100\n",
      "5/5 [==============================] - 0s 13ms/step - loss: 0.0581 - accuracy: 0.3071 - val_loss: 0.0240 - val_accuracy: 0.4667\n",
      "Epoch 28/100\n",
      "5/5 [==============================] - 0s 12ms/step - loss: 0.0555 - accuracy: 0.3071 - val_loss: 0.0253 - val_accuracy: 0.4667\n",
      "Epoch 29/100\n",
      "5/5 [==============================] - 0s 12ms/step - loss: 0.0544 - accuracy: 0.3071 - val_loss: 0.0200 - val_accuracy: 0.4667\n",
      "Epoch 30/100\n",
      "5/5 [==============================] - 0s 11ms/step - loss: 0.0513 - accuracy: 0.3071 - val_loss: 0.0202 - val_accuracy: 0.4667\n",
      "Epoch 31/100\n",
      "5/5 [==============================] - 0s 11ms/step - loss: 0.0494 - accuracy: 0.3071 - val_loss: 0.0168 - val_accuracy: 0.4667\n",
      "Epoch 32/100\n",
      "5/5 [==============================] - 0s 13ms/step - loss: 0.0491 - accuracy: 0.3071 - val_loss: 0.0164 - val_accuracy: 0.4667\n",
      "Epoch 33/100\n",
      "5/5 [==============================] - 0s 10ms/step - loss: 0.0462 - accuracy: 0.3071 - val_loss: 0.0164 - val_accuracy: 0.4667\n",
      "Epoch 34/100\n",
      "5/5 [==============================] - 0s 11ms/step - loss: 0.0478 - accuracy: 0.3071 - val_loss: 0.0134 - val_accuracy: 0.4667\n",
      "Epoch 35/100\n",
      "5/5 [==============================] - 0s 12ms/step - loss: 0.0424 - accuracy: 0.3071 - val_loss: 0.0143 - val_accuracy: 0.4667\n",
      "Epoch 36/100\n",
      "5/5 [==============================] - 0s 11ms/step - loss: 0.0400 - accuracy: 0.3071 - val_loss: 0.0162 - val_accuracy: 0.4667\n",
      "Epoch 37/100\n",
      "5/5 [==============================] - 0s 10ms/step - loss: 0.0402 - accuracy: 0.3071 - val_loss: 0.0167 - val_accuracy: 0.4667\n",
      "Epoch 38/100\n",
      "5/5 [==============================] - 0s 10ms/step - loss: 0.0361 - accuracy: 0.3071 - val_loss: 0.0168 - val_accuracy: 0.4667\n",
      "Epoch 39/100\n",
      "5/5 [==============================] - 0s 12ms/step - loss: 0.0354 - accuracy: 0.3071 - val_loss: 0.0158 - val_accuracy: 0.4667\n",
      "Epoch 40/100\n",
      "5/5 [==============================] - 0s 12ms/step - loss: 0.0349 - accuracy: 0.3071 - val_loss: 0.0156 - val_accuracy: 0.4667\n",
      "Epoch 41/100\n",
      "5/5 [==============================] - 0s 11ms/step - loss: 0.0305 - accuracy: 0.3071 - val_loss: 0.0172 - val_accuracy: 0.4667\n",
      "Epoch 42/100\n",
      "5/5 [==============================] - 0s 13ms/step - loss: 0.0337 - accuracy: 0.3071 - val_loss: 0.0144 - val_accuracy: 0.4667\n",
      "Epoch 43/100\n",
      "5/5 [==============================] - 0s 15ms/step - loss: 0.0258 - accuracy: 0.3071 - val_loss: 0.0136 - val_accuracy: 0.4667\n",
      "Epoch 44/100\n",
      "5/5 [==============================] - 0s 13ms/step - loss: 0.0263 - accuracy: 0.3071 - val_loss: 0.0119 - val_accuracy: 0.4667\n",
      "Epoch 45/100\n",
      "5/5 [==============================] - 0s 12ms/step - loss: 0.0225 - accuracy: 0.3071 - val_loss: 0.0123 - val_accuracy: 0.4667\n",
      "Epoch 46/100\n",
      "5/5 [==============================] - 0s 12ms/step - loss: 0.0212 - accuracy: 0.3071 - val_loss: 0.0121 - val_accuracy: 0.4667\n",
      "Epoch 47/100\n",
      "5/5 [==============================] - 0s 11ms/step - loss: 0.0215 - accuracy: 0.3071 - val_loss: 0.0090 - val_accuracy: 0.4667\n",
      "Epoch 48/100\n",
      "5/5 [==============================] - 0s 10ms/step - loss: 0.0160 - accuracy: 0.3071 - val_loss: 0.0090 - val_accuracy: 0.4667\n",
      "Epoch 49/100\n",
      "5/5 [==============================] - 0s 12ms/step - loss: 0.0206 - accuracy: 0.3071 - val_loss: 0.0114 - val_accuracy: 0.4667\n",
      "Epoch 50/100\n",
      "5/5 [==============================] - 0s 13ms/step - loss: 0.0135 - accuracy: 0.3071 - val_loss: 0.0097 - val_accuracy: 0.4667\n",
      "Epoch 51/100\n",
      "5/5 [==============================] - 0s 12ms/step - loss: 0.0140 - accuracy: 0.3071 - val_loss: 0.0120 - val_accuracy: 0.4667\n",
      "Epoch 52/100\n",
      "5/5 [==============================] - 0s 13ms/step - loss: 0.0108 - accuracy: 0.3071 - val_loss: 0.0142 - val_accuracy: 0.4667\n",
      "Epoch 53/100\n",
      "5/5 [==============================] - 0s 12ms/step - loss: 0.0109 - accuracy: 0.3071 - val_loss: 0.0107 - val_accuracy: 0.4667\n",
      "Epoch 54/100\n",
      "5/5 [==============================] - 0s 15ms/step - loss: 0.0072 - accuracy: 0.3071 - val_loss: 0.0099 - val_accuracy: 0.4667\n",
      "Epoch 55/100\n",
      "5/5 [==============================] - 0s 12ms/step - loss: 0.0039 - accuracy: 0.3071 - val_loss: 0.0095 - val_accuracy: 0.4667\n",
      "Epoch 56/100\n",
      "5/5 [==============================] - 0s 11ms/step - loss: 0.0013 - accuracy: 0.3071 - val_loss: 0.0067 - val_accuracy: 0.4667\n",
      "Epoch 57/100\n",
      "5/5 [==============================] - 0s 11ms/step - loss: 1.6227e-04 - accuracy: 0.3071 - val_loss: 0.0037 - val_accuracy: 0.4667\n",
      "Epoch 58/100\n",
      "5/5 [==============================] - 0s 11ms/step - loss: -0.0059 - accuracy: 0.3071 - val_loss: 0.0017 - val_accuracy: 0.4667\n",
      "Epoch 59/100\n",
      "5/5 [==============================] - 0s 12ms/step - loss: -0.0082 - accuracy: 0.3071 - val_loss: 0.0018 - val_accuracy: 0.4667\n",
      "Epoch 60/100\n",
      "5/5 [==============================] - 0s 11ms/step - loss: -0.0117 - accuracy: 0.3071 - val_loss: -7.2986e-04 - val_accuracy: 0.4667\n",
      "Epoch 61/100\n",
      "5/5 [==============================] - 0s 11ms/step - loss: -0.0160 - accuracy: 0.3071 - val_loss: -0.0015 - val_accuracy: 0.4667\n",
      "Epoch 62/100\n",
      "5/5 [==============================] - 0s 12ms/step - loss: -0.0163 - accuracy: 0.3071 - val_loss: 6.4767e-04 - val_accuracy: 0.4667\n",
      "Epoch 63/100\n",
      "5/5 [==============================] - 0s 10ms/step - loss: -0.0197 - accuracy: 0.3071 - val_loss: 8.1779e-04 - val_accuracy: 0.4667\n",
      "Epoch 64/100\n",
      "5/5 [==============================] - 0s 10ms/step - loss: -0.0195 - accuracy: 0.3143 - val_loss: 0.0013 - val_accuracy: 0.4667\n",
      "Epoch 65/100\n",
      "5/5 [==============================] - 0s 11ms/step - loss: -0.0207 - accuracy: 0.3071 - val_loss: 0.0017 - val_accuracy: 0.4667\n",
      "Epoch 66/100\n",
      "5/5 [==============================] - 0s 12ms/step - loss: -0.0245 - accuracy: 0.3143 - val_loss: 0.0026 - val_accuracy: 0.4667\n",
      "Epoch 67/100\n",
      "5/5 [==============================] - 0s 11ms/step - loss: -0.0240 - accuracy: 0.3143 - val_loss: 0.0047 - val_accuracy: 0.4667\n",
      "Epoch 68/100\n",
      "5/5 [==============================] - 0s 11ms/step - loss: -0.0293 - accuracy: 0.3143 - val_loss: 0.0038 - val_accuracy: 0.4667\n",
      "Epoch 69/100\n",
      "5/5 [==============================] - 0s 12ms/step - loss: -0.0271 - accuracy: 0.3143 - val_loss: 0.0071 - val_accuracy: 0.4667\n",
      "Epoch 70/100\n",
      "5/5 [==============================] - 0s 12ms/step - loss: -0.0328 - accuracy: 0.3143 - val_loss: 0.0061 - val_accuracy: 0.4667\n",
      "Epoch 71/100\n",
      "5/5 [==============================] - 0s 13ms/step - loss: -0.0303 - accuracy: 0.3143 - val_loss: 0.0062 - val_accuracy: 0.4667\n",
      "Epoch 72/100\n",
      "5/5 [==============================] - 0s 12ms/step - loss: -0.0370 - accuracy: 0.3143 - val_loss: 0.0035 - val_accuracy: 0.4667\n",
      "Epoch 73/100\n",
      "5/5 [==============================] - 0s 11ms/step - loss: -0.0396 - accuracy: 0.3143 - val_loss: 0.0013 - val_accuracy: 0.4667\n",
      "Epoch 74/100\n",
      "5/5 [==============================] - 0s 10ms/step - loss: -0.0441 - accuracy: 0.3143 - val_loss: -0.0013 - val_accuracy: 0.4667\n",
      "Epoch 75/100\n",
      "5/5 [==============================] - 0s 12ms/step - loss: -0.0473 - accuracy: 0.3143 - val_loss: -0.0048 - val_accuracy: 0.4667\n",
      "Epoch 76/100\n",
      "5/5 [==============================] - 0s 11ms/step - loss: -0.0487 - accuracy: 0.3143 - val_loss: -0.0047 - val_accuracy: 0.4667\n",
      "Epoch 77/100\n",
      "5/5 [==============================] - 0s 10ms/step - loss: -0.0494 - accuracy: 0.3143 - val_loss: -0.0037 - val_accuracy: 0.4667\n",
      "Epoch 78/100\n",
      "5/5 [==============================] - 0s 11ms/step - loss: -0.0542 - accuracy: 0.3143 - val_loss: -0.0065 - val_accuracy: 0.4667\n",
      "Epoch 79/100\n",
      "5/5 [==============================] - 0s 12ms/step - loss: -0.0556 - accuracy: 0.3143 - val_loss: -0.0077 - val_accuracy: 0.4667\n",
      "Epoch 80/100\n",
      "5/5 [==============================] - 0s 12ms/step - loss: -0.0582 - accuracy: 0.3143 - val_loss: -0.0056 - val_accuracy: 0.4667\n",
      "Epoch 81/100\n",
      "5/5 [==============================] - 0s 9ms/step - loss: -0.0588 - accuracy: 0.3143 - val_loss: -0.0069 - val_accuracy: 0.4667\n",
      "Epoch 82/100\n",
      "5/5 [==============================] - 0s 10ms/step - loss: -0.0629 - accuracy: 0.3143 - val_loss: -0.0080 - val_accuracy: 0.4667\n",
      "Epoch 83/100\n",
      "5/5 [==============================] - 0s 10ms/step - loss: -0.0677 - accuracy: 0.3143 - val_loss: -0.0093 - val_accuracy: 0.4667\n",
      "Epoch 84/100\n",
      "5/5 [==============================] - 0s 10ms/step - loss: -0.0672 - accuracy: 0.3143 - val_loss: -0.0106 - val_accuracy: 0.4667\n",
      "Epoch 85/100\n",
      "5/5 [==============================] - 0s 11ms/step - loss: -0.0716 - accuracy: 0.3143 - val_loss: -0.0086 - val_accuracy: 0.4667\n",
      "Epoch 86/100\n",
      "5/5 [==============================] - 0s 10ms/step - loss: -0.0727 - accuracy: 0.3143 - val_loss: -0.0082 - val_accuracy: 0.4667\n",
      "Epoch 87/100\n",
      "5/5 [==============================] - 0s 11ms/step - loss: -0.0713 - accuracy: 0.3143 - val_loss: -0.0110 - val_accuracy: 0.4667\n",
      "Epoch 88/100\n",
      "5/5 [==============================] - 0s 10ms/step - loss: -0.0752 - accuracy: 0.3143 - val_loss: -0.0128 - val_accuracy: 0.4667\n",
      "Epoch 89/100\n",
      "5/5 [==============================] - 0s 10ms/step - loss: -0.0812 - accuracy: 0.3143 - val_loss: -0.0152 - val_accuracy: 0.4667\n",
      "Epoch 90/100\n",
      "5/5 [==============================] - 0s 10ms/step - loss: -0.0788 - accuracy: 0.3143 - val_loss: -0.0162 - val_accuracy: 0.4667\n",
      "Epoch 91/100\n",
      "5/5 [==============================] - 0s 10ms/step - loss: -0.0882 - accuracy: 0.3143 - val_loss: -0.0178 - val_accuracy: 0.4667\n",
      "Epoch 92/100\n",
      "5/5 [==============================] - 0s 12ms/step - loss: -0.0860 - accuracy: 0.3143 - val_loss: -0.0198 - val_accuracy: 0.4667\n",
      "Epoch 93/100\n",
      "5/5 [==============================] - 0s 12ms/step - loss: -0.0925 - accuracy: 0.3143 - val_loss: -0.0218 - val_accuracy: 0.4667\n",
      "Epoch 94/100\n",
      "5/5 [==============================] - 0s 12ms/step - loss: -0.0956 - accuracy: 0.3143 - val_loss: -0.0255 - val_accuracy: 0.4667\n",
      "Epoch 95/100\n",
      "5/5 [==============================] - 0s 12ms/step - loss: -0.0988 - accuracy: 0.3143 - val_loss: -0.0262 - val_accuracy: 0.4667\n",
      "Epoch 96/100\n",
      "5/5 [==============================] - 0s 11ms/step - loss: -0.0953 - accuracy: 0.3143 - val_loss: -0.0257 - val_accuracy: 0.4667\n",
      "Epoch 97/100\n",
      "5/5 [==============================] - 0s 14ms/step - loss: -0.1024 - accuracy: 0.3143 - val_loss: -0.0270 - val_accuracy: 0.4667\n",
      "Epoch 98/100\n",
      "5/5 [==============================] - 0s 13ms/step - loss: -0.1040 - accuracy: 0.3143 - val_loss: -0.0280 - val_accuracy: 0.4667\n",
      "Epoch 99/100\n",
      "5/5 [==============================] - 0s 11ms/step - loss: -0.1129 - accuracy: 0.3143 - val_loss: -0.0272 - val_accuracy: 0.4667\n",
      "Epoch 100/100\n",
      "5/5 [==============================] - 0s 11ms/step - loss: -0.1106 - accuracy: 0.3143 - val_loss: -0.0284 - val_accuracy: 0.4667\n"
     ]
    }
   ],
   "source": [
    "hist = model.fit(X_train, Y_train,\n",
    "          batch_size=32, epochs=100,\n",
    "          validation_data=(X_val, Y_val))"
   ]
  },
  {
   "cell_type": "code",
   "execution_count": 15,
   "metadata": {},
   "outputs": [
    {
     "name": "stdout",
     "output_type": "stream",
     "text": [
      "1/1 [==============================] - 0s 23ms/step - loss: 0.0408 - accuracy: 0.3667\n"
     ]
    },
    {
     "data": {
      "text/plain": [
       "0.36666667461395264"
      ]
     },
     "execution_count": 15,
     "metadata": {},
     "output_type": "execute_result"
    }
   ],
   "source": [
    "model.evaluate(X_test, Y_test)[1]"
   ]
  },
  {
   "cell_type": "code",
   "execution_count": 16,
   "metadata": {},
   "outputs": [
    {
     "data": {
      "image/png": "[encoded data removed]",
      "text/plain": [
       "<Figure size 640x480 with 1 Axes>"
      ]
     },
     "metadata": {},
     "output_type": "display_data"
    }
   ],
   "source": [
    "plt.plot(hist.history['loss'])\n",
    "plt.plot(hist.history['val_loss'])\n",
    "plt.title('Model loss')\n",
    "plt.ylabel('Loss')\n",
    "plt.xlabel('Epoch')\n",
    "plt.legend(['Train', 'Val'], loc='upper right')\n",
    "plt.show()"
   ]
  },
  {
   "cell_type": "code",
   "execution_count": 24,
   "metadata": {},
   "outputs": [
    {
     "data": {
      "text/plain": [
       "<matplotlib.legend.Legend at 0x1a2edf0a910>"
      ]
     },
     "execution_count": 24,
     "metadata": {},
     "output_type": "execute_result"
    },
    {
     "data": {
      "image/png": "[encoded data removed]",
      "text/plain": [
       "<Figure size 640x480 with 1 Axes>"
      ]
     },
     "metadata": {},
     "output_type": "display_data"
    }
   ],
   "source": [
    "plt.plot(hist.history['accuracy'])\n",
    "plt.plot(hist.history['val_accuracy'])\n",
    "plt.title('Model accuracy')\n",
    "plt.ylabel('Accuracy')\n",
    "plt.xlabel('Epoch')\n",
    "plt.legend(['Train', 'Val'], loc='lower right')\n",
    "# plt.show()"
   ]
  }
 ],
 "metadata": {
  "kernelspec": {
   "display_name": "base",
   "language": "python",
   "name": "python3"
  },
  "language_info": {
   "codemirror_mode": {
    "name": "ipython",
    "version": 3
   },
   "file_extension": ".py",
   "mimetype": "text/x-python",
   "name": "python",
   "nbconvert_exporter": "python",
   "pygments_lexer": "ipython3",
   "version": "3.9.13"
  },
  "orig_nbformat": 4,
  "vscode": {
   "interpreter": {
    "hash": "25e0744418fbc88b94ab2b7da715c0806f15c7a4a36995c2a16c3b21659c9f64"
   }
  }
 },
 "nbformat": 4,
 "nbformat_minor": 2
}
